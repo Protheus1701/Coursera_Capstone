{
    "cells": [
        {
            "cell_type": "markdown",
            "metadata": {
                "collapsed": true
            },
            "source": "# Capstone Project - The Battle of Neighborhoods"
        },
        {
            "cell_type": "markdown",
            "metadata": {},
            "source": "## Describing the Data to be used"
        },
        {
            "cell_type": "markdown",
            "metadata": {},
            "source": "### 2.) Data"
        },
        {
            "cell_type": "markdown",
            "metadata": {},
            "source": "The Foursquare API will be used for this project. Lists containing the neighborhoods of New York and Toronto are downloaded and their respective coordinates in latitude and longitude are obtained. The lists are obtained from the following sources:\n\n* Neighborhoods of New York: [New York data in JSON format](https://ibm.box.com/shared/static/fbpwbovar7lf8p5sgddm06cgipa2rxpe.json)\n* Neighborhoods of Toronto: [Toronto data from Wikipedia](https://en.wikipedia.org/wiki/List_of_postal_codes_of_Canada:_M)\n\nThe downloaded data contains the neighborhoods which are located in Toronto and New York. Furthermore,their specific coordinates are then merged with this data. For the analysis are only the neighborhoods of Manhattan in New York and the boroughs which contain the string \"Toronto\" taken into account.\nFor acquiring the surrounding venues within a radius of 500m the Foursquare API is used. For this a GET request is sent to the Fousquare API.\nUsing one hot encoding with the categories of each venue, the data is formated. After that the venues are grouped by neighborhoods computing the mean of each feature.\n\nThe similarities will be determined based on the frequency of the categories found in the neighborhoods. These found similarities will serve as an identifier for the user whether to choose a particular neighborhood near the center of Toronto as new place for living or not.\n"
        },
        {
            "cell_type": "code",
            "execution_count": null,
            "metadata": {},
            "outputs": [],
            "source": ""
        }
    ],
    "metadata": {
        "kernelspec": {
            "display_name": "Python 3.6",
            "language": "python",
            "name": "python3"
        },
        "language_info": {
            "codemirror_mode": {
                "name": "ipython",
                "version": 3
            },
            "file_extension": ".py",
            "mimetype": "text/x-python",
            "name": "python",
            "nbconvert_exporter": "python",
            "pygments_lexer": "ipython3",
            "version": "3.6.9"
        }
    },
    "nbformat": 4,
    "nbformat_minor": 1
}