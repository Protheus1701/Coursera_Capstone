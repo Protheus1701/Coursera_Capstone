{
    "cells": [
        {
            "cell_type": "markdown",
            "metadata": {
                "collapsed": true
            },
            "source": "# Capstone Project - The Battle of Neighborhoods"
        },
        {
            "cell_type": "markdown",
            "metadata": {},
            "source": "## Introduction/Business Problem"
        },
        {
            "cell_type": "markdown",
            "metadata": {},
            "source": "### 1.) Introduction:"
        },
        {
            "cell_type": "markdown",
            "metadata": {},
            "source": "When migrating from one city to another a lof of things have to be considered, e.g. in which neighborhood to live. This needs a lot of time for collecting all the informations, comparing the neighborhoods and evaluating everything that has to be considered.\n\nThe objective of this project is to help people who want to move from New York City, USA to Toronto, Canada. Therfor similar neighborhoods in New York and Canada shall be found for making it possible to make a smart and efficient decicion for finding a suitable neighborhood in the new city.\n\nMachine Learning algorithms are a common tool in the study of data and have proven to be a very helpful tool when it comes to big quantities of data. Instead of traditional statistics they set fewer constraints. Unsupervised learning algorithms, in particular, can be used for finding patterns in terms of similarity between samples. The algorithms which are used depend on the pattern within the data. Density-Based-Spatial Clustering (DBScan)is used for non-convex data. For convex data a K-Means algorithm is used as a well known tool.\n\nThe social network Foursquare is an established and idenpendent platform for geo-tracking data, to get a good insight into the activities of persons. So for a user of Foursquare who wants to move from New York to Toronto, the Foursquare location data in combination with a clustering algorithm can suggest a neighborhood in Toronto as a similar place to live in. Thereby the suggested neighborhood will not be a random suggestion, but a very suitable place. For this, previous data from New York and Toronto will be used for the prediction of a good future neighborhood to live in."
        },
        {
            "cell_type": "code",
            "execution_count": null,
            "metadata": {},
            "outputs": [],
            "source": ""
        }
    ],
    "metadata": {
        "kernelspec": {
            "display_name": "Python 3.6",
            "language": "python",
            "name": "python3"
        },
        "language_info": {
            "codemirror_mode": {
                "name": "ipython",
                "version": 3
            },
            "file_extension": ".py",
            "mimetype": "text/x-python",
            "name": "python",
            "nbconvert_exporter": "python",
            "pygments_lexer": "ipython3",
            "version": "3.6.9"
        }
    },
    "nbformat": 4,
    "nbformat_minor": 1
}